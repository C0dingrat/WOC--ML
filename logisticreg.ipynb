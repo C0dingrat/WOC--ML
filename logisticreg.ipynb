{
 "cells": [
  {
   "cell_type": "code",
   "execution_count": 205,
   "metadata": {},
   "outputs": [],
   "source": [
    "import numpy as np\n",
    "import pandas as pd\n",
    "from sklearn.model_selection import train_test_split\n",
    "\n"
   ]
  },
  {
   "cell_type": "code",
   "execution_count": 206,
   "metadata": {},
   "outputs": [],
   "source": [
    "df=pd.read_csv('./MlLibrary/binary_classification_train.csv')"
   ]
  },
  {
   "cell_type": "code",
   "execution_count": null,
   "metadata": {},
   "outputs": [],
   "source": [
    "df"
   ]
  },
  {
   "cell_type": "code",
   "execution_count": 208,
   "metadata": {},
   "outputs": [],
   "source": [
    "x=df.iloc[:, 1:21].to_numpy()\n",
    "y=df['Class'].to_numpy()\n",
    "x = (x- np.mean(x, axis=0)) / np.std(x, axis=0)\n",
    "\n",
    "w=np.zeros([x.shape[1]])\n",
    "b=0\n"
   ]
  },
  {
   "cell_type": "code",
   "execution_count": 209,
   "metadata": {},
   "outputs": [],
   "source": [
    "X_train, X_test, y_train, y_test = train_test_split(x, y, test_size=0.3,  random_state=42)"
   ]
  },
  {
   "cell_type": "code",
   "execution_count": null,
   "metadata": {},
   "outputs": [],
   "source": [
    "print(\"Training Features (X_train):\\n\", X_train)\n",
    "print(\"Testing Features (X_test):\\n\", X_test)\n",
    "print(\"Training Targets (y_train):\\n\", y_train)\n",
    "print(\"Testing Targets (y_test):\\n\", y_test)"
   ]
  },
  {
   "cell_type": "code",
   "execution_count": 211,
   "metadata": {},
   "outputs": [],
   "source": [
    "\n",
    "def sig(z):\n",
    "    \n",
    "    g= 1/ (1+np.exp(-z))\n",
    "    \n",
    "    return g"
   ]
  },
  {
   "cell_type": "code",
   "execution_count": 212,
   "metadata": {},
   "outputs": [],
   "source": [
    "\n",
    "def compute_cost(X, Y, w, b,lambda1):\n",
    "    m = X.shape[0]\n",
    "    z = np.dot(X, w) + b\n",
    "    fwb = sig(z)\n",
    "    cost = -(1/m) * np.sum(Y * np.log(fwb) + (1 - Y) * np.log(1 - fwb))\n",
    "    reg_cost = (lambda1 / (2 * m)) * np.sum(w**2)\n",
    "    return cost + reg_cost\n"
   ]
  },
  {
   "cell_type": "code",
   "execution_count": 213,
   "metadata": {},
   "outputs": [],
   "source": [
    "\n",
    "def compute_gradient(X, Y, w, b, lambda1):\n",
    "    m, n = X.shape\n",
    "    z = np.dot(X, w) + b\n",
    "    fwb = sig(z)\n",
    "    error = fwb - Y\n",
    "    djdw = (1/m) * np.dot(X.T, error) + (lambda1/m) * w\n",
    "    djdb = (1/m) * np.sum(error)\n",
    "    return djdw, djdb\n"
   ]
  },
  {
   "cell_type": "code",
   "execution_count": 214,
   "metadata": {},
   "outputs": [],
   "source": [
    "\n",
    "        \n",
    "        \n",
    "\n",
    "def wb_calc(X, Y, w, b, alpha, num_iters, lambda1):\n",
    "    \n",
    "    \n",
    "    for k in range(num_iters):\n",
    "        djdw, djdb = compute_gradient(X, Y, w, b, lambda1)\n",
    "        w -= alpha * djdw\n",
    "        b -= alpha * djdb\n",
    "        if k % 1000 == 0:\n",
    "            cost = compute_cost(X, Y, w, b, lambda1)\n",
    "            \n",
    "            print(f\"Iteration {k}: Cost {cost:.4f}\")\n",
    "    return w, b\n",
    "    "
   ]
  },
  {
   "cell_type": "code",
   "execution_count": null,
   "metadata": {},
   "outputs": [],
   "source": [
    "\n",
    "alpha=0.001\n",
    "num_iters=10000\n",
    "lambda1=10^-3\n",
    "\n",
    "gradient=compute_gradient(X_train,y_train,w,b,lambda1)\n",
    "print(f\"Final gradient: djdw = {gradient[0]}, djdb = {gradient[1]}\")\n",
    "\n",
    "w ,b= wb_calc(X_train,y_train,w,b,alpha,num_iters,lambda1)\n",
    "print(f\"Optimized parameters: w = {w}, b = {b}\")\n"
   ]
  },
  {
   "cell_type": "code",
   "execution_count": 216,
   "metadata": {},
   "outputs": [],
   "source": [
    "\n",
    "\n",
    "def predict(X, w, b):\n",
    "    z = np.dot(X, w) + b\n",
    "  \n",
    "    return sig(z) >= 0.5\n",
    "    "
   ]
  },
  {
   "cell_type": "code",
   "execution_count": null,
   "metadata": {},
   "outputs": [],
   "source": [
    "\n",
    "\n",
    "\n",
    "\n",
    "y_predict = predict(X_train, w, b)\n",
    "\n",
    "\n",
    "print(\"Predicted target values:\")\n",
    "print(y_predict)\n"
   ]
  },
  {
   "cell_type": "code",
   "execution_count": null,
   "metadata": {},
   "outputs": [],
   "source": [
    "a=compute_cost(X_train,y_train,w,b,lambda1)\n",
    "print(a)"
   ]
  },
  {
   "cell_type": "code",
   "execution_count": null,
   "metadata": {},
   "outputs": [],
   "source": [
    "correct_pred=0\n",
    "for true, pred in zip(y_train,y_predict):\n",
    "    \n",
    "    if true==pred:\n",
    "        correct_pred+=1\n",
    "        \n",
    "\n",
    "\n",
    "accuracy=correct_pred /len(y_train)\n",
    "print(f\"Accuracy: {accuracy*100:.2f}%\")"
   ]
  },
  {
   "cell_type": "code",
   "execution_count": null,
   "metadata": {},
   "outputs": [],
   "source": []
  }
 ],
 "metadata": {
  "kernelspec": {
   "display_name": "Python 3",
   "language": "python",
   "name": "python3"
  },
  "language_info": {
   "codemirror_mode": {
    "name": "ipython",
    "version": 3
   },
   "file_extension": ".py",
   "mimetype": "text/x-python",
   "name": "python",
   "nbconvert_exporter": "python",
   "pygments_lexer": "ipython3",
   "version": "3.13.1"
  }
 },
 "nbformat": 4,
 "nbformat_minor": 2
}
