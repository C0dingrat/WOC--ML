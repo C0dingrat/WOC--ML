{
 "cells": [
  {
   "cell_type": "code",
   "execution_count": 49,
   "metadata": {},
   "outputs": [],
   "source": [
    "import numpy as np \n",
    "import pandas as pd\n",
    "from sklearn.model_selection import train_test_split\n"
   ]
  },
  {
   "cell_type": "code",
   "execution_count": 50,
   "metadata": {},
   "outputs": [],
   "source": [
    "df= pd.read_csv('./MlLibrary/linear_regression_train.csv' )"
   ]
  },
  {
   "cell_type": "code",
   "execution_count": null,
   "metadata": {},
   "outputs": [],
   "source": [
    "df"
   ]
  },
  {
   "cell_type": "code",
   "execution_count": 52,
   "metadata": {},
   "outputs": [],
   "source": [
    "x=df.iloc[:,1:26].to_numpy()\n",
    "\n",
    "x = (x - np.mean(x, axis=0)) / np.std(x, axis=0)\n",
    "y = df['Target'].to_numpy()\n",
    "w = np.zeros(x.shape[1])\n",
    "b = 0"
   ]
  },
  {
   "cell_type": "code",
   "execution_count": 53,
   "metadata": {},
   "outputs": [],
   "source": [
    "X_train, X_test, y_train, y_test = train_test_split(x, y, test_size=0.3,  random_state=42)"
   ]
  },
  {
   "cell_type": "code",
   "execution_count": null,
   "metadata": {},
   "outputs": [],
   "source": [
    "print(\"Training Features (X_train):\\n\", X_train)\n",
    "print(\"Testing Features (X_test):\\n\", X_test)\n",
    "print(\"Training Targets (y_train):\\n\", y_train)\n",
    "print(\"Testing Targets (y_test):\\n\", y_test)"
   ]
  },
  {
   "cell_type": "code",
   "execution_count": 55,
   "metadata": {},
   "outputs": [],
   "source": [
    "def cost (x,y,w,b,lamda):\n",
    "    m=x.shape[0]\n",
    "    \n",
    "    fwb=np.dot(x,w)+b\n",
    "    err=fwb-y\n",
    "    \n",
    "    cost=np.sum(err**2)/(2*m)\n",
    "    reg_cost=(lamda/(2*m))*np.sum(w**2)\n",
    "    \n",
    "    total_cost=cost+reg_cost\n",
    "    return total_cost\n"
   ]
  },
  {
   "cell_type": "code",
   "execution_count": 56,
   "metadata": {},
   "outputs": [],
   "source": [
    "def gradient (x,y,w,b,lamda):\n",
    "    m, n = x.shape\n",
    "    fwb=np.dot(x,w)+b\n",
    "    err=fwb-y\n",
    "    \n",
    "    djdw=(np.dot(x.T,err)+lamda*w)/m\n",
    "    djdb=np.sum(err)/m\n",
    "    \n",
    "    \n",
    "    return djdw,djdb\n",
    "    \n",
    "    \n"
   ]
  },
  {
   "cell_type": "code",
   "execution_count": 57,
   "metadata": {},
   "outputs": [],
   "source": [
    "def wb_calc(x,y,w,b,alpha,num_iters,lamda):\n",
    "    for k in range(num_iters):\n",
    "        djdw, djdb = gradient(x, y, w, b, lamda)\n",
    "        # Update weights and bias\n",
    "        w -= alpha * djdw\n",
    "        b -= alpha * djdb\n",
    "        \n",
    "        \n",
    "    return w,b"
   ]
  },
  {
   "cell_type": "code",
   "execution_count": 58,
   "metadata": {},
   "outputs": [],
   "source": [
    "\n",
    "def predict(x, w, b):\n",
    "    return np.dot(x, w.T) + b"
   ]
  },
  {
   "cell_type": "code",
   "execution_count": null,
   "metadata": {},
   "outputs": [],
   "source": [
    "alpha = 0.001\n",
    "num_iters = 10000\n",
    "lamda = 5\n",
    "\n",
    "grad = gradient(X_train, y_train, w, b, lamda)\n",
    "print(f\"Initial gradient: djdw = {grad[0]}, djdb = {grad[1]}\")\n",
    "\n",
    "w, b = wb_calc(X_train, y_train, w, b, alpha, num_iters, lamda)\n",
    "print(f\"Optimized parameters: w = {w}, b = {b}\")"
   ]
  },
  {
   "cell_type": "code",
   "execution_count": null,
   "metadata": {},
   "outputs": [],
   "source": [
    "\n",
    "\n",
    "y_predict = predict(X_train, w, b)\n",
    "\n",
    "print(\"Predicted target values:\")\n",
    "print(y_predict)\n",
    "\n",
    "\n"
   ]
  },
  {
   "cell_type": "code",
   "execution_count": null,
   "metadata": {},
   "outputs": [],
   "source": [
    "a=cost(X_train,y_train,w,b,lamda)\n",
    "print(a)"
   ]
  },
  {
   "cell_type": "code",
   "execution_count": null,
   "metadata": {},
   "outputs": [],
   "source": [
    "MSE=np.mean((y_train - y_predict)**2)\n",
    "print(MSE)"
   ]
  },
  {
   "cell_type": "code",
   "execution_count": null,
   "metadata": {},
   "outputs": [],
   "source": [
    "y_mean = np.mean(y_train)\n",
    "ss_res = np.sum((y_train - y_predict)**2)\n",
    "ss_tot = np.sum((y_train- y_mean)**2)\n",
    "r2_score = 1 - (ss_res / ss_tot)\n",
    "print(f\"R² Score: {r2_score}\")"
   ]
  },
  {
   "cell_type": "code",
   "execution_count": 64,
   "metadata": {},
   "outputs": [],
   "source": [
    "df2=pd.read_csv('./MlLibrary/linear_regression_test.csv')"
   ]
  },
  {
   "cell_type": "code",
   "execution_count": null,
   "metadata": {},
   "outputs": [],
   "source": [
    "df2"
   ]
  },
  {
   "cell_type": "code",
   "execution_count": 66,
   "metadata": {},
   "outputs": [],
   "source": [
    "xtest=df.iloc[ :,1:26].to_numpy()\n",
    "xtest = (xtest - np.mean(xtest, axis=0)) / np.std(xtest, axis=0)"
   ]
  },
  {
   "cell_type": "code",
   "execution_count": null,
   "metadata": {},
   "outputs": [],
   "source": [
    "y_predict=(xtest,w,b)\n",
    "print(y_predict)"
   ]
  }
 ],
 "metadata": {
  "kernelspec": {
   "display_name": "Python 3",
   "language": "python",
   "name": "python3"
  },
  "language_info": {
   "codemirror_mode": {
    "name": "ipython",
    "version": 3
   },
   "file_extension": ".py",
   "mimetype": "text/x-python",
   "name": "python",
   "nbconvert_exporter": "python",
   "pygments_lexer": "ipython3",
   "version": "3.13.1"
  }
 },
 "nbformat": 4,
 "nbformat_minor": 2
}
