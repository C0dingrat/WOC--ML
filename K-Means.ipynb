{
 "cells": [
  {
   "cell_type": "code",
   "execution_count": 12,
   "metadata": {},
   "outputs": [],
   "source": [
    "import numpy as np\n",
    "import pandas as pd\n",
    "import matplotlib.pyplot as plt"
   ]
  },
  {
   "cell_type": "code",
   "execution_count": 13,
   "metadata": {},
   "outputs": [],
   "source": [
    "X=pd.read_csv('./MlLibrary/unsupervised_data.csv').to_numpy()\n",
    "\n",
    "X= (X - np.mean(X, axis=0)) / np.std(X, axis=0)"
   ]
  },
  {
   "cell_type": "code",
   "execution_count": null,
   "metadata": {},
   "outputs": [],
   "source": [
    "X"
   ]
  },
  {
   "cell_type": "code",
   "execution_count": 15,
   "metadata": {},
   "outputs": [],
   "source": [
    "def kMeans_init_centroids(X, K):\n",
    "    randidx = np.random.permutation(X.shape[0])\n",
    "   # centroids = X[randidx[:K]] //not workin bcoz indexing done column wise while we want row wise\n",
    "    centroids = X[randidx[:K]]\n",
    "    \n",
    "    return centroids\n"
   ]
  },
  {
   "cell_type": "code",
   "execution_count": 16,
   "metadata": {},
   "outputs": [],
   "source": [
    "\n",
    "def find_closest_centroids(X, centroids):\n",
    "    K = centroids.shape[0]\n",
    "    idx = np.zeros(X.shape[0], dtype=int)\n",
    "    for j in range(X.shape[0]):\n",
    "        min_distance = float('inf')  # Initialize to a very large number\n",
    "        for i in range(K):\n",
    "            dist = np.sum((X[j] - centroids[i]) ** 2)\n",
    "            if dist < min_distance:\n",
    "                min_distance = dist\n",
    "                idx[j] = i  \n",
    "                    \n",
    "    return idx"
   ]
  },
  {
   "cell_type": "code",
   "execution_count": 17,
   "metadata": {},
   "outputs": [],
   "source": [
    "def compute_centroids(X, idx, K):\n",
    "    m, n = X.shape\n",
    "    centroids = np.zeros((K, n))\n",
    "    \n",
    "    for i in range(K):\n",
    "        sum=0\n",
    "        c=0\n",
    "        for j in range(m):\n",
    "            if(idx[j]==i):\n",
    "                c=c+1\n",
    "                sum+=X[j]\n",
    "        centroids[i]=sum/c\n",
    "        \n",
    "    return centroids"
   ]
  },
  {
   "cell_type": "code",
   "execution_count": 18,
   "metadata": {},
   "outputs": [],
   "source": [
    "def cost(X,centroids,idx):\n",
    "    cost=0\n",
    "    for i in range(X.shape[0]):\n",
    "         cluster_idx = idx[i]\n",
    "         cost += np.sum((X[i] - centroids[cluster_idx]) ** 2)\n",
    "    return cost"
   ]
  },
  {
   "cell_type": "code",
   "execution_count": 19,
   "metadata": {},
   "outputs": [],
   "source": [
    "def run_kMeans(X, initial_centroids, max_iters=10):\n",
    "    m, n = X.shape\n",
    "    K = initial_centroids.shape[0]\n",
    "    centroids = initial_centroids\n",
    "      \n",
    "    idx = np.zeros(m)\n",
    "    \n",
    "\n",
    "    for i in range(max_iters):\n",
    "        \n",
    "   \n",
    "        print(\"K-Means iteration %d/%d\" % (i+1, max_iters))\n",
    "        \n",
    "        \n",
    "        idx = find_closest_centroids(X, centroids)\n",
    "        \n",
    "        centroids = compute_centroids(X, idx, K)\n",
    "    \n",
    "    return centroids, idx\n"
   ]
  },
  {
   "cell_type": "code",
   "execution_count": 20,
   "metadata": {},
   "outputs": [],
   "source": [
    "\n",
    "def elbowpoint(X,K):\n",
    "      costs = []\n",
    "      for K in range(1, K + 1):\n",
    "        init_centroids = kMeans_init_centroids(X, K)\n",
    "        final_centroids, cluster_idx = run_kMeans(X, init_centroids, max_iters=10)\n",
    "        totcost = cost(X, final_centroids, cluster_idx)\n",
    "        costs.append(totcost)\n",
    "      \n",
    "\n",
    "      plt.figure(figsize=(8, 6))\n",
    "      plt.plot(range(1, K + 1), costs, marker='o', linestyle='-')\n",
    "      plt.title('Elbow Method for Optimal K')\n",
    "      plt.xlabel('Number of Clusters (K)')\n",
    "      plt.ylabel('cost')\n",
    "      plt.xticks(range(1, K + 1))\n",
    "      plt.grid(True)\n",
    "      plt.show()"
   ]
  },
  {
   "cell_type": "code",
   "execution_count": null,
   "metadata": {},
   "outputs": [],
   "source": [
    "\n",
    "K= 20\n",
    "inertias = elbowpoint(X, K)"
   ]
  },
  {
   "cell_type": "code",
   "execution_count": null,
   "metadata": {},
   "outputs": [],
   "source": [
    "    \n",
    "init_centroids = kMeans_init_centroids(X, 4)\n",
    "final_centroids, cluster_idx = run_kMeans(X, init_centroids, max_iters=10)\n",
    "\n",
    "print(\"Final centroids:\\n\", final_centroids)"
   ]
  },
  {
   "cell_type": "code",
   "execution_count": null,
   "metadata": {},
   "outputs": [],
   "source": []
  }
 ],
 "metadata": {
  "kernelspec": {
   "display_name": "Python 3",
   "language": "python",
   "name": "python3"
  },
  "language_info": {
   "codemirror_mode": {
    "name": "ipython",
    "version": 3
   },
   "file_extension": ".py",
   "mimetype": "text/x-python",
   "name": "python",
   "nbconvert_exporter": "python",
   "pygments_lexer": "ipython3",
   "version": "3.13.1"
  }
 },
 "nbformat": 4,
 "nbformat_minor": 2
}
